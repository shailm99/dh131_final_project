{
 "cells": [
  {
   "cell_type": "code",
   "execution_count": 1,
   "metadata": {},
   "outputs": [],
   "source": [
    "import pandas as pd\n",
    "import numpy as np"
   ]
  },
  {
   "cell_type": "code",
   "execution_count": 2,
   "metadata": {},
   "outputs": [],
   "source": [
    "locations = pd.read_csv('../data/unknown_loc.csv')\n",
    "locations = locations.iloc[:, :3]"
   ]
  },
  {
   "cell_type": "code",
   "execution_count": 3,
   "metadata": {},
   "outputs": [],
   "source": [
    "full_data = pd.read_csv('../data/FULL-trans-atlantic-trade-cleaned.csv', index_col=0)\n",
    "short_data = pd.read_csv('../data/trans-atlantic-trade-cleaned.csv', index_col= 0)"
   ]
  },
  {
   "cell_type": "code",
   "execution_count": 4,
   "metadata": {},
   "outputs": [
    {
     "data": {
      "text/plain": [
       "Captain's name                         2188\n",
       "Crew deaths during voyage             23609\n",
       "Crew at first landing of captives     25751\n",
       "Crew at voyage outset                 16739\n",
       "Date vessel departed with captives    21371\n",
       "                                      ...  \n",
       "beg_loc_long                             27\n",
       "purchase_loc_lat                       3501\n",
       "purchase_loc_long                      3501\n",
       "end_loc_lat                             283\n",
       "end_loc_long                            283\n",
       "Length: 88, dtype: int64"
      ]
     },
     "execution_count": 4,
     "metadata": {},
     "output_type": "execute_result"
    }
   ],
   "source": [
    "full_data.isnull().sum()"
   ]
  },
  {
   "cell_type": "code",
   "execution_count": 5,
   "metadata": {},
   "outputs": [
    {
     "data": {
      "text/plain": [
       "Year of arrival at port of disembarkation        0\n",
       "Voyage ID                                        0\n",
       "Vessel name                                    527\n",
       "beg_loc                                          0\n",
       "purchase_loc                                     0\n",
       "end_loc                                          0\n",
       "Voyage links                                 27916\n",
       "Captives arrived at 1st port                 11688\n",
       "Percent men                                  24955\n",
       "Percent women                                24954\n",
       "Percent children                             24224\n",
       "Captain's name                                2188\n",
       "beg_loc_lat                                     27\n",
       "beg_loc_long                                    27\n",
       "purchase_loc_lat                              3501\n",
       "purchase_loc_long                             3501\n",
       "end_loc_lat                                    274\n",
       "end_loc_long                                   274\n",
       "dtype: int64"
      ]
     },
     "execution_count": 5,
     "metadata": {},
     "output_type": "execute_result"
    }
   ],
   "source": [
    "short_data.isnull().sum()"
   ]
  },
  {
   "cell_type": "code",
   "execution_count": 6,
   "metadata": {},
   "outputs": [],
   "source": [
    "loc_cols = ['beg_loc', 'purchase_loc', 'end_loc']"
   ]
  },
  {
   "cell_type": "code",
   "execution_count": 8,
   "metadata": {},
   "outputs": [],
   "source": [
    "for loc in locations['Location Name'].values.tolist():\n",
    "    for col in loc_cols:\n",
    "        \n",
    "        full_data.loc[full_data[col] == loc, f'{col}_lat'] = locations.loc[locations['Location Name'] == loc, 'Latitude'].values[0]\n",
    "        full_data.loc[full_data[col] == loc, f'{col}_long'] = locations.loc[locations['Location Name'] == loc, 'Longtitude '].values[0]\n",
    "\n",
    "        short_data.loc[short_data[col] == loc, f'{col}_lat'] = locations.loc[locations['Location Name'] == loc, 'Latitude'].values[0]\n",
    "        short_data.loc[short_data[col] == loc, f'{col}_long'] = locations.loc[locations['Location Name'] == loc, 'Longtitude '].values[0]\n"
   ]
  },
  {
   "cell_type": "code",
   "execution_count": 9,
   "metadata": {},
   "outputs": [
    {
     "data": {
      "text/plain": [
       "Captain's name                         2188\n",
       "Crew deaths during voyage             23609\n",
       "Crew at first landing of captives     25751\n",
       "Crew at voyage outset                 16739\n",
       "Date vessel departed with captives    21371\n",
       "                                      ...  \n",
       "beg_loc_long                              2\n",
       "purchase_loc_lat                         52\n",
       "purchase_loc_long                        52\n",
       "end_loc_lat                              75\n",
       "end_loc_long                             75\n",
       "Length: 88, dtype: int64"
      ]
     },
     "execution_count": 9,
     "metadata": {},
     "output_type": "execute_result"
    }
   ],
   "source": [
    "full_data.isnull().sum()"
   ]
  },
  {
   "cell_type": "code",
   "execution_count": 10,
   "metadata": {},
   "outputs": [
    {
     "data": {
      "text/plain": [
       "Year of arrival at port of disembarkation        0\n",
       "Voyage ID                                        0\n",
       "Vessel name                                    527\n",
       "beg_loc                                          0\n",
       "purchase_loc                                     0\n",
       "end_loc                                          0\n",
       "Voyage links                                 27916\n",
       "Captives arrived at 1st port                 11688\n",
       "Percent men                                  24955\n",
       "Percent women                                24954\n",
       "Percent children                             24224\n",
       "Captain's name                                2188\n",
       "beg_loc_lat                                      2\n",
       "beg_loc_long                                     2\n",
       "purchase_loc_lat                                52\n",
       "purchase_loc_long                               52\n",
       "end_loc_lat                                     75\n",
       "end_loc_long                                    75\n",
       "dtype: int64"
      ]
     },
     "execution_count": 10,
     "metadata": {},
     "output_type": "execute_result"
    }
   ],
   "source": [
    "short_data.isnull().sum()"
   ]
  },
  {
   "cell_type": "code",
   "execution_count": 11,
   "metadata": {},
   "outputs": [],
   "source": [
    "full_data.to_csv('FULL_with_locations.csv')"
   ]
  },
  {
   "cell_type": "code",
   "execution_count": 12,
   "metadata": {},
   "outputs": [],
   "source": [
    "short_data.to_csv('SIMPLIFIED_with_locations.csv')"
   ]
  }
 ],
 "metadata": {
  "kernelspec": {
   "display_name": "Python 3.8.5 64-bit",
   "language": "python",
   "name": "python3"
  },
  "language_info": {
   "codemirror_mode": {
    "name": "ipython",
    "version": 3
   },
   "file_extension": ".py",
   "mimetype": "text/x-python",
   "name": "python",
   "nbconvert_exporter": "python",
   "pygments_lexer": "ipython3",
   "version": "3.8.5"
  },
  "orig_nbformat": 4,
  "vscode": {
   "interpreter": {
    "hash": "aee8b7b246df8f9039afb4144a1f6fd8d2ca17a180786b69acc140d282b71a49"
   }
  }
 },
 "nbformat": 4,
 "nbformat_minor": 2
}
