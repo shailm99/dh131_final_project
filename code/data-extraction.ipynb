{
 "cells": [
  {
   "cell_type": "code",
   "execution_count": 1,
   "metadata": {},
   "outputs": [],
   "source": [
    "import pandas as pd\n",
    "import numpy as np"
   ]
  },
  {
   "cell_type": "code",
   "execution_count": 2,
   "metadata": {},
   "outputs": [],
   "source": [
    "df = pd.read_csv('../data/SIMPLIFIED_with_locations.csv', index_col=0)"
   ]
  },
  {
   "cell_type": "code",
   "execution_count": 3,
   "metadata": {},
   "outputs": [],
   "source": [
    "df.groupby(['beg_loc', 'beg_loc_lat', 'beg_loc_long'])['Captives arrived at 1st port'].sum().reset_index().to_csv('Origin_Locations_Grouped.csv')"
   ]
  },
  {
   "cell_type": "code",
   "execution_count": 4,
   "metadata": {},
   "outputs": [],
   "source": [
    "unique_locations  = set(df['beg_loc'].values.tolist() + df['purchase_loc'].values.tolist() + df['end_loc'].values.tolist())"
   ]
  },
  {
   "cell_type": "code",
   "execution_count": 5,
   "metadata": {},
   "outputs": [],
   "source": [
    "location_df = pd.DataFrame(list(unique_locations), columns = ['Place'])"
   ]
  },
  {
   "cell_type": "code",
   "execution_count": 6,
   "metadata": {},
   "outputs": [],
   "source": [
    "location_df[['Origin_Count', 'Purchase_Count', 'Destination_Count']] = 0"
   ]
  },
  {
   "cell_type": "code",
   "execution_count": 7,
   "metadata": {},
   "outputs": [],
   "source": [
    "beg_df = df.groupby('beg_loc')['Voyage ID'].count()\n",
    "purchase_df = df.groupby('purchase_loc')['Voyage ID'].count()\n",
    "end_df = df.groupby('end_loc')['Voyage ID'].count()"
   ]
  },
  {
   "cell_type": "code",
   "execution_count": 8,
   "metadata": {},
   "outputs": [],
   "source": [
    "for place in location_df['Place'].values.tolist():\n",
    "    try:\n",
    "        beg_count = beg_df[place]\n",
    "    except KeyError:\n",
    "        beg_count = 0\n",
    "\n",
    "    try:\n",
    "        pur_count = purchase_df[place]\n",
    "    except KeyError:\n",
    "        pur_count = 0\n",
    "\n",
    "    try:\n",
    "        end_count = end_df[place]\n",
    "    except KeyError:\n",
    "        end_count = 0\n",
    "    \n",
    "    location_df.loc[location_df.Place == place, 'Origin_Count'] = beg_count\n",
    "    location_df.loc[location_df.Place == place, 'Purchase_Count'] = pur_count\n",
    "    location_df.loc[location_df.Place == place, 'Destination_Count'] = end_count"
   ]
  },
  {
   "cell_type": "code",
   "execution_count": 9,
   "metadata": {},
   "outputs": [],
   "source": [
    "location_df[['latitude', 'longitude']] = None"
   ]
  },
  {
   "cell_type": "code",
   "execution_count": 10,
   "metadata": {},
   "outputs": [],
   "source": [
    "def find_lat_long(place):\n",
    "    try:\n",
    "        subset = df.loc[df.beg_loc == place]\n",
    "        if len(subset) > 0:\n",
    "            return [subset['beg_loc_lat'].values[0], subset['beg_loc_long'].values[0]]\n",
    "    except:\n",
    "        pass\n",
    "\n",
    "    try:\n",
    "        subset = df.loc[df.purchase_loc == place]\n",
    "        if len(subset) > 0:\n",
    "            return [subset['purchase_loc_lat'].values[0], subset['purchase_loc_long'].values[0]]\n",
    "    except:\n",
    "        pass\n",
    "\n",
    "    try:\n",
    "        subset = df.loc[df.end_loc == place]\n",
    "        if len(subset) > 0:\n",
    "            return [subset['end_loc_lat'].values[0], subset['end_loc_long'].values[0]]\n",
    "    except:\n",
    "        pass\n",
    "\n",
    "\n",
    "    return [None, None]\n",
    "     "
   ]
  },
  {
   "cell_type": "code",
   "execution_count": 11,
   "metadata": {},
   "outputs": [],
   "source": [
    "location_df['latitude'] = location_df.Place.apply(lambda x: find_lat_long(x)[0])\n",
    "location_df['longitude'] = location_df.Place.apply(lambda x: find_lat_long(x)[1])"
   ]
  },
  {
   "cell_type": "code",
   "execution_count": 12,
   "metadata": {},
   "outputs": [
    {
     "data": {
      "text/plain": [
       "Place                 0\n",
       "Origin_Count          0\n",
       "Purchase_Count        0\n",
       "Destination_Count     0\n",
       "latitude             15\n",
       "longitude            15\n",
       "dtype: int64"
      ]
     },
     "execution_count": 12,
     "metadata": {},
     "output_type": "execute_result"
    }
   ],
   "source": [
    "location_df.isnull().sum()"
   ]
  },
  {
   "cell_type": "code",
   "execution_count": 13,
   "metadata": {},
   "outputs": [],
   "source": [
    "location_df.to_csv('Locations_Involved.csv')"
   ]
  },
  {
   "cell_type": "code",
   "execution_count": null,
   "metadata": {},
   "outputs": [],
   "source": []
  }
 ],
 "metadata": {
  "kernelspec": {
   "display_name": "Python 3.8.5 64-bit",
   "language": "python",
   "name": "python3"
  },
  "language_info": {
   "codemirror_mode": {
    "name": "ipython",
    "version": 3
   },
   "file_extension": ".py",
   "mimetype": "text/x-python",
   "name": "python",
   "nbconvert_exporter": "python",
   "pygments_lexer": "ipython3",
   "version": "3.8.5"
  },
  "orig_nbformat": 4,
  "vscode": {
   "interpreter": {
    "hash": "aee8b7b246df8f9039afb4144a1f6fd8d2ca17a180786b69acc140d282b71a49"
   }
  }
 },
 "nbformat": 4,
 "nbformat_minor": 2
}
